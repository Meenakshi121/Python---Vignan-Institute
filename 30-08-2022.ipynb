{
 "cells": [
  {
   "cell_type": "markdown",
   "metadata": {},
   "source": [
    "### For loop with else\n",
    "\n",
    "* else part is executed when the loop is finished\n",
    "* else part is not executed when the loop contains a break statement\n"
   ]
  },
  {
   "cell_type": "code",
   "execution_count": 2,
   "metadata": {},
   "outputs": [
    {
     "name": "stdout",
     "output_type": "stream",
     "text": [
      "1 2 3 4 5 6 7 8 9 10 \n",
      " else part\n"
     ]
    }
   ],
   "source": [
    "for i in range(1,11):\n",
    "    print(i,end=\" \")\n",
    "else:\n",
    "    print(\"\\n else part\")"
   ]
  },
  {
   "cell_type": "code",
   "execution_count": 3,
   "metadata": {},
   "outputs": [
    {
     "name": "stdout",
     "output_type": "stream",
     "text": [
      "1 2 3 4 "
     ]
    }
   ],
   "source": [
    "for i in range(1,11):\n",
    "    if i==5: \n",
    "        break\n",
    "    print(i,end=\" \")\n",
    "else:\n",
    "    print(\"\\n else part\")"
   ]
  },
  {
   "cell_type": "markdown",
   "metadata": {},
   "source": [
    "### Loop control statements\n",
    "\n",
    "* break\n",
    "* continue\n",
    "* pass\n",
    "\n",
    "* break statement terminates the loop and control goes to the next statement after the loop\n",
    "* continue statement is used to skip the rest of the code for the current iteration only, \n",
    "loop doesnot terminates, and continues for next iteration\n"
   ]
  },
  {
   "cell_type": "code",
   "execution_count": 6,
   "metadata": {},
   "outputs": [
    {
     "name": "stdout",
     "output_type": "stream",
     "text": [
      "p\n",
      "y\n",
      "t\n",
      "h\n",
      "Hello world\n"
     ]
    }
   ],
   "source": [
    "name='python'\n",
    "for i in name:\n",
    "    if i=='o':\n",
    "        break\n",
    "    print(i)\n",
    "print(\"Hello world\")"
   ]
  },
  {
   "cell_type": "code",
   "execution_count": 7,
   "metadata": {},
   "outputs": [
    {
     "name": "stdout",
     "output_type": "stream",
     "text": [
      "p\n",
      "y\n",
      "t\n",
      "h\n",
      "n\n",
      "Hello world\n"
     ]
    }
   ],
   "source": [
    "name='python'\n",
    "for i in name:\n",
    "    if i=='o':\n",
    "        continue\n",
    "    print(i)\n",
    "print(\"Hello world\")"
   ]
  },
  {
   "cell_type": "code",
   "execution_count": 10,
   "metadata": {},
   "outputs": [],
   "source": [
    "#pass statement - null statement used body of loop contains nothing\n",
    "\n",
    "for i in \"python\":\n",
    "    pass"
   ]
  },
  {
   "cell_type": "markdown",
   "metadata": {},
   "source": [
    "### Functions\n",
    "\n",
    "* functions is a block of code which is used to perform a specific task\n",
    "* syntax\n",
    "    * def functionname():\n",
    "        * statements\n",
    "* types of functions : inbuilt functions,used defined functions"
   ]
  },
  {
   "cell_type": "code",
   "execution_count": 11,
   "metadata": {},
   "outputs": [
    {
     "data": {
      "text/plain": [
       "8"
      ]
     },
     "execution_count": 11,
     "metadata": {},
     "output_type": "execute_result"
    }
   ],
   "source": [
    "pow(2,3)"
   ]
  },
  {
   "cell_type": "code",
   "execution_count": 13,
   "metadata": {},
   "outputs": [
    {
     "data": {
      "text/plain": [
       "125"
      ]
     },
     "execution_count": 13,
     "metadata": {},
     "output_type": "execute_result"
    }
   ],
   "source": [
    "pow(5,3)"
   ]
  },
  {
   "cell_type": "code",
   "execution_count": 14,
   "metadata": {},
   "outputs": [
    {
     "data": {
      "text/plain": [
       "6"
      ]
     },
     "execution_count": 14,
     "metadata": {},
     "output_type": "execute_result"
    }
   ],
   "source": [
    "abs(-6)"
   ]
  },
  {
   "cell_type": "code",
   "execution_count": 15,
   "metadata": {},
   "outputs": [
    {
     "data": {
      "text/plain": [
       "'y'"
      ]
     },
     "execution_count": 15,
     "metadata": {},
     "output_type": "execute_result"
    }
   ],
   "source": [
    "max(\"python\")"
   ]
  },
  {
   "cell_type": "code",
   "execution_count": 17,
   "metadata": {},
   "outputs": [
    {
     "data": {
      "text/plain": [
       "'a'"
      ]
     },
     "execution_count": 17,
     "metadata": {},
     "output_type": "execute_result"
    }
   ],
   "source": [
    "min(\"avgjkl\")"
   ]
  },
  {
   "cell_type": "code",
   "execution_count": 18,
   "metadata": {},
   "outputs": [
    {
     "data": {
      "text/plain": [
       "'0b1001'"
      ]
     },
     "execution_count": 18,
     "metadata": {},
     "output_type": "execute_result"
    }
   ],
   "source": [
    "bin(9)"
   ]
  },
  {
   "cell_type": "markdown",
   "metadata": {},
   "source": [
    "### User defined function\n",
    "* functions which are defined by users\n",
    "* syntax:\n",
    "    * def funcname():\n",
    "        * statements"
   ]
  },
  {
   "cell_type": "code",
   "execution_count": 23,
   "metadata": {},
   "outputs": [
    {
     "name": "stdout",
     "output_type": "stream",
     "text": [
      "enter x value: 23\n",
      "enter y value: 45\n",
      "sum of 2 numbers:  68\n"
     ]
    }
   ],
   "source": [
    "def addition():\n",
    "    x=int(input(\"enter x value: \"))\n",
    "    y=int(input(\"enter y value: \"))\n",
    "    r=x+y\n",
    "    print(\"sum of 2 numbers: \",r)\n",
    "addition()   # calling the functions"
   ]
  },
  {
   "cell_type": "markdown",
   "metadata": {},
   "source": [
    "### Based on parameters and return type functions are divided into 4 types\n",
    "* without parameters and without return value\n",
    "* without parameters and with return value\n",
    "* with parameters and without return value\n",
    "* with parameters and with return value"
   ]
  },
  {
   "cell_type": "code",
   "execution_count": 25,
   "metadata": {},
   "outputs": [
    {
     "name": "stdout",
     "output_type": "stream",
     "text": [
      "enter a value: 23\n",
      "enter b value: 45\n",
      "before swapping values of a and b are  23 45\n",
      "after swapping values of a and b are:  45 23\n"
     ]
    }
   ],
   "source": [
    "# without parameters and without return value\n",
    "\n",
    "\"\"\"a=3 , b=5\n",
    "after swap a=5, b=3\"\"\"\n",
    "\n",
    "def swap():\n",
    "    a=int(input(\"enter a value: \"))\n",
    "    b=int(input(\"enter b value: \"))\n",
    "    print(\"before swapping values of a and b are \",a,b)\n",
    "    temp=a\n",
    "    a=b\n",
    "    b=temp\n",
    "    print(\"after swapping values of a and b are: \",a,b)\n",
    "    \n",
    "swap()   \n",
    "    \n",
    "    "
   ]
  },
  {
   "cell_type": "code",
   "execution_count": 26,
   "metadata": {},
   "outputs": [
    {
     "name": "stdout",
     "output_type": "stream",
     "text": [
      "enter a value: 34\n",
      "enter b value: 12\n"
     ]
    },
    {
     "data": {
      "text/plain": [
       "22"
      ]
     },
     "execution_count": 26,
     "metadata": {},
     "output_type": "execute_result"
    }
   ],
   "source": [
    "# without parameters and with return value\n",
    "def subt():\n",
    "    a=int(input(\"enter a value: \"))\n",
    "    b=int(input(\"enter b value: \"))\n",
    "    s=a-b\n",
    "    return s\n",
    "subt()"
   ]
  },
  {
   "cell_type": "code",
   "execution_count": 27,
   "metadata": {},
   "outputs": [
    {
     "name": "stdout",
     "output_type": "stream",
     "text": [
      "multiplication result is:  360\n"
     ]
    }
   ],
   "source": [
    "# with parameters and without return value\n",
    "\n",
    "def mul(x,y):\n",
    "    m=x*y\n",
    "    print(\"multiplication result is: \",m)\n",
    "mul(90,4)\n",
    "    "
   ]
  },
  {
   "cell_type": "code",
   "execution_count": 28,
   "metadata": {},
   "outputs": [
    {
     "data": {
      "text/plain": [
       "11.0"
      ]
     },
     "execution_count": 28,
     "metadata": {},
     "output_type": "execute_result"
    }
   ],
   "source": [
    "# with parameters and with return value\n",
    "\n",
    "def div(a,b):\n",
    "    d=a/b\n",
    "    return d\n",
    "div(44,4)"
   ]
  },
  {
   "cell_type": "markdown",
   "metadata": {},
   "source": [
    "### Types of arguments in functions\n",
    "* default arguments\n",
    "* keyword arguments\n",
    "* arbitary arguments\n"
   ]
  },
  {
   "cell_type": "markdown",
   "metadata": {},
   "source": [
    "### Default arguments\n",
    "* Function arguments can have default values in  python\n",
    "* we can assign default values to arguments by using assignment operator '='"
   ]
  },
  {
   "cell_type": "code",
   "execution_count": 31,
   "metadata": {},
   "outputs": [
    {
     "name": "stdout",
     "output_type": "stream",
     "text": [
      "sai welcome to python programming\n"
     ]
    }
   ],
   "source": [
    "def greet(name,msg=\"welcome to python programming\"):\n",
    "    print(name,msg)\n",
    "greet(\"sai\")"
   ]
  },
  {
   "cell_type": "code",
   "execution_count": 33,
   "metadata": {},
   "outputs": [
    {
     "name": "stdout",
     "output_type": "stream",
     "text": [
      "geetha  is good girl\n"
     ]
    }
   ],
   "source": [
    "greet(\"geetha\",\" is good girl\")"
   ]
  },
  {
   "cell_type": "code",
   "execution_count": 35,
   "metadata": {},
   "outputs": [
    {
     "ename": "SyntaxError",
     "evalue": "non-default argument follows default argument (<ipython-input-35-ffe32a793142>, line 1)",
     "output_type": "error",
     "traceback": [
      "\u001b[1;36m  File \u001b[1;32m\"<ipython-input-35-ffe32a793142>\"\u001b[1;36m, line \u001b[1;32m1\u001b[0m\n\u001b[1;33m    def greet(name=\"keerthi\",msg): #default value is not given to 1st parameter\u001b[0m\n\u001b[1;37m             ^\u001b[0m\n\u001b[1;31mSyntaxError\u001b[0m\u001b[1;31m:\u001b[0m non-default argument follows default argument\n"
     ]
    }
   ],
   "source": [
    "def greet(name=\"keerthi\",msg): #default value is not given to 1st parameter\n",
    "    print(name,msg)\n",
    "greet(\"welcome\")"
   ]
  },
  {
   "cell_type": "markdown",
   "metadata": {},
   "source": [
    "### Python keyword arguments\n",
    "\n",
    "* when we call function with some values,these values are assigned to arguments according to their position"
   ]
  },
  {
   "cell_type": "code",
   "execution_count": 36,
   "metadata": {},
   "outputs": [
    {
     "name": "stdout",
     "output_type": "stream",
     "text": [
      "lokesh good evening\n"
     ]
    }
   ],
   "source": [
    "greet(name=\"lokesh\",msg=\"good evening\")"
   ]
  },
  {
   "cell_type": "code",
   "execution_count": 37,
   "metadata": {},
   "outputs": [
    {
     "name": "stdout",
     "output_type": "stream",
     "text": [
      "lokesh good evening\n"
     ]
    }
   ],
   "source": [
    "greet(msg=\"good evening\",name=\"lokesh\")"
   ]
  },
  {
   "cell_type": "code",
   "execution_count": 38,
   "metadata": {},
   "outputs": [
    {
     "name": "stdout",
     "output_type": "stream",
     "text": [
      "sai good\n"
     ]
    }
   ],
   "source": [
    "greet(\"sai\",msg=\"good\")   #positional,keyword argument"
   ]
  },
  {
   "cell_type": "code",
   "execution_count": 39,
   "metadata": {},
   "outputs": [
    {
     "ename": "SyntaxError",
     "evalue": "positional argument follows keyword argument (<ipython-input-39-759420d547f0>, line 1)",
     "output_type": "error",
     "traceback": [
      "\u001b[1;36m  File \u001b[1;32m\"<ipython-input-39-759420d547f0>\"\u001b[1;36m, line \u001b[1;32m1\u001b[0m\n\u001b[1;33m    greet(name=\"vara\",msg)\u001b[0m\n\u001b[1;37m                     ^\u001b[0m\n\u001b[1;31mSyntaxError\u001b[0m\u001b[1;31m:\u001b[0m positional argument follows keyword argument\n"
     ]
    }
   ],
   "source": [
    "greet(name=\"vara\",msg)"
   ]
  },
  {
   "cell_type": "code",
   "execution_count": 40,
   "metadata": {},
   "outputs": [
    {
     "name": "stdout",
     "output_type": "stream",
     "text": [
      "keerthi chandu bhanu "
     ]
    }
   ],
   "source": [
    "### arbitary arguments\n",
    "\n",
    "def greet(*name):\n",
    "    for i in name:\n",
    "        print(i,end=\" \")\n",
    "greet(\"keerthi\",\"chandu\",\"bhanu\")\n"
   ]
  },
  {
   "cell_type": "code",
   "execution_count": null,
   "metadata": {},
   "outputs": [],
   "source": []
  }
 ],
 "metadata": {
  "kernelspec": {
   "display_name": "Python 3",
   "language": "python",
   "name": "python3"
  },
  "language_info": {
   "codemirror_mode": {
    "name": "ipython",
    "version": 3
   },
   "file_extension": ".py",
   "mimetype": "text/x-python",
   "name": "python",
   "nbconvert_exporter": "python",
   "pygments_lexer": "ipython3",
   "version": "3.7.6"
  }
 },
 "nbformat": 4,
 "nbformat_minor": 4
}
