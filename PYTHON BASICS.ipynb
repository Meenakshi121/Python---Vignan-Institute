{
 "cells": [
  {
   "cell_type": "markdown",
   "metadata": {},
   "source": [
    "### esc+m -> convert coding cell into markdown cell\n",
    "### esc+y -> convert markdown cell into coding cell\n",
    "### shift+enter -> to run the cell"
   ]
  },
  {
   "cell_type": "markdown",
   "metadata": {},
   "source": [
    "# Heading1\n",
    "## Heading 2\n",
    "### Heading3\n",
    "#### Heading4\n",
    "##### Heading5\n",
    "\n",
    "\n",
    "* *italic*\n",
    "* **Bold**\n",
    "* ***italic&Bold***\n",
    "\n",
    "* city\n",
    "    * vijayawada\n",
    "    * guntur\n",
    "    * Vishakapatnam\n",
    "    * hyderabad\n",
    "    \n",
    "* Branch\n",
    "    1. IT\n",
    "    2. ECE\n",
    "    3. CSE\n",
    "    4. CIVIL\n",
    "    5. MECHANICAL\n",
    "    6. EEE\n",
    "    \n",
    "    \n",
    "* python\n",
    "    * Python is a open source\n",
    "    * it is high level programming language\n",
    "    * it supports object oriented programming\n",
    "    * Extenible and embeddable\n",
    "    * Portable\n",
    "    \n",
    "* inserting a link\n",
    "<https://www.google.com>\n",
    "\n",
    "* insert an image\n",
    "<img src=\"jupyter.png\">"
   ]
  },
  {
   "cell_type": "code",
   "execution_count": 4,
   "metadata": {},
   "outputs": [],
   "source": [
    "a=20    #single variable assignment"
   ]
  },
  {
   "cell_type": "code",
   "execution_count": 5,
   "metadata": {},
   "outputs": [
    {
     "data": {
      "text/plain": [
       "20"
      ]
     },
     "execution_count": 5,
     "metadata": {},
     "output_type": "execute_result"
    }
   ],
   "source": [
    "a"
   ]
  },
  {
   "cell_type": "code",
   "execution_count": 6,
   "metadata": {},
   "outputs": [],
   "source": [
    "a,b,c,d=20,30,40,50 # multi variable assignment"
   ]
  },
  {
   "cell_type": "code",
   "execution_count": 7,
   "metadata": {},
   "outputs": [
    {
     "data": {
      "text/plain": [
       "40"
      ]
     },
     "execution_count": 7,
     "metadata": {},
     "output_type": "execute_result"
    }
   ],
   "source": [
    "c"
   ]
  },
  {
   "cell_type": "markdown",
   "metadata": {},
   "source": [
    "### Conditional statements\n",
    "\n",
    "* IF Statement consist of a boolean expression followed by one or more statements\n",
    "\n",
    "* if expression:\n",
    "    * statements"
   ]
  },
  {
   "cell_type": "code",
   "execution_count": 10,
   "metadata": {},
   "outputs": [
    {
     "name": "stdout",
     "output_type": "stream",
     "text": [
      "enter a number24\n",
      "positive number\n"
     ]
    }
   ],
   "source": [
    "# write a program to check whether the number is positive or not\n",
    "\n",
    "n=int(input(\"enter a number\"))\n",
    "if n>0:\n",
    "    print(\"positive number\")"
   ]
  },
  {
   "cell_type": "markdown",
   "metadata": {},
   "source": [
    "### If else statement\n",
    "\n",
    "* The if..else statement evaluates test expression and will execute body of if  when the test expression is true otherwise else part will be executed\n",
    "\n",
    "* if test expression:\n",
    "    * statements\n",
    "* else:\n",
    "    * statements"
   ]
  },
  {
   "cell_type": "code",
   "execution_count": 12,
   "metadata": {},
   "outputs": [
    {
     "name": "stdout",
     "output_type": "stream",
     "text": [
      "enter a number: 13\n",
      "odd number\n"
     ]
    }
   ],
   "source": [
    "# write a program to check the given number is even or odd\n",
    "\n",
    "n=int(input(\"enter a number: \"))\n",
    "if n%2==0:\n",
    "    print(\"given number is even\")\n",
    "else:\n",
    "    print(\"odd number\")"
   ]
  },
  {
   "cell_type": "code",
   "execution_count": null,
   "metadata": {},
   "outputs": [],
   "source": []
  }
 ],
 "metadata": {
  "kernelspec": {
   "display_name": "Python 3",
   "language": "python",
   "name": "python3"
  },
  "language_info": {
   "codemirror_mode": {
    "name": "ipython",
    "version": 3
   },
   "file_extension": ".py",
   "mimetype": "text/x-python",
   "name": "python",
   "nbconvert_exporter": "python",
   "pygments_lexer": "ipython3",
   "version": "3.7.6"
  }
 },
 "nbformat": 4,
 "nbformat_minor": 4
}
