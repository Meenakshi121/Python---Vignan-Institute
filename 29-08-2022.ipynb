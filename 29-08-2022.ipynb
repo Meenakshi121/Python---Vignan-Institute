{
 "cells": [
  {
   "cell_type": "markdown",
   "metadata": {},
   "source": [
    "## if ..elif..else\n",
    "\n",
    "* elif is shortcut for elseif. used to check multiple expressions\n",
    "* If the condition for if is false, then it check for condition of elif and so on. If all conditions are false then statements in else block will be executed.\n"
   ]
  },
  {
   "cell_type": "markdown",
   "metadata": {},
   "source": [
    "* if condition:\n",
    "   * statements\n",
    "* elif condition:\n",
    "   * statements\n",
    "* else:\n",
    "    * statements"
   ]
  },
  {
   "cell_type": "code",
   "execution_count": 2,
   "metadata": {},
   "outputs": [
    {
     "name": "stdout",
     "output_type": "stream",
     "text": [
      "enter a value: 23\n",
      "enter b value: 45\n",
      "enter c value: 98\n",
      "c is greatest\n"
     ]
    }
   ],
   "source": [
    "# write a python program to find the greatest of 3 numbers\n",
    "\n",
    "a=int(input(\"enter a value: \"))\n",
    "b=int(input(\"enter b value: \"))\n",
    "c=int(input(\"enter c value: \"))\n",
    "if a>b and a>c:\n",
    "    print(\"a is greatest among given numbers\")\n",
    "elif b>a and b>c:\n",
    "    print(\"b is greatest\")\n",
    "else:\n",
    "    print(\"c is greatest\")\n",
    "    "
   ]
  },
  {
   "cell_type": "markdown",
   "metadata": {},
   "source": [
    "### Nested if statement\n",
    "\n",
    "* if you write if elif else inside another if elif else statement then it is considered as nested if\n",
    "\n"
   ]
  },
  {
   "cell_type": "code",
   "execution_count": 5,
   "metadata": {},
   "outputs": [
    {
     "name": "stdout",
     "output_type": "stream",
     "text": [
      "enter a number: -6\n",
      "number is negative number\n"
     ]
    }
   ],
   "source": [
    "n=int(input(\"enter a number: \"))\n",
    "if n>=0:\n",
    "    if n==0:\n",
    "        print(\"number is equals to zero\")\n",
    "    else:\n",
    "        print(\"number is positive number\")\n",
    "else:\n",
    "    print(\"number is negative number\")\n",
    "    "
   ]
  },
  {
   "cell_type": "markdown",
   "metadata": {},
   "source": [
    "## Loops\n",
    "\n",
    "* loops helps you to execute a block of code repeatedly.\n"
   ]
  },
  {
   "cell_type": "markdown",
   "metadata": {},
   "source": [
    "### While :\n",
    "\n",
    "* it executes block or set of instructions repeatedly until the condition is false\n",
    "* we use this loop we dont know the number of iterations in  advance"
   ]
  },
  {
   "cell_type": "markdown",
   "metadata": {},
   "source": [
    "### Flow of while\n",
    "\n",
    "* If the condition is true then the block of statements inside while are executed and then control jump to begining of the loop for next iteration.\n",
    "* if the condition is false then loop is terminated the control jumps to next statement in the progrm  after the loop"
   ]
  },
  {
   "cell_type": "markdown",
   "metadata": {},
   "source": [
    "###  while syntax:\n",
    "\n",
    "* Initialization\n",
    "* While condition:\n",
    "    * statements\n",
    "    * incre/decre"
   ]
  },
  {
   "cell_type": "code",
   "execution_count": 12,
   "metadata": {},
   "outputs": [
    {
     "name": "stdout",
     "output_type": "stream",
     "text": [
      "1 2 3 4 5 6 7 8 9 10 \n",
      " outside while\n"
     ]
    }
   ],
   "source": [
    "# write a program to print 1 to 10 natural numbers\n",
    "i=1\n",
    "while i<=10:\n",
    "    print(i,end=\" \")\n",
    "    i+=1\n",
    "    \n",
    "print(\"\\n outside while\")\n",
    "    "
   ]
  },
  {
   "cell_type": "code",
   "execution_count": 13,
   "metadata": {},
   "outputs": [
    {
     "name": "stdout",
     "output_type": "stream",
     "text": [
      "10 9 8 7 6 5 4 3 2 1 "
     ]
    }
   ],
   "source": [
    "# write a program to print 10 to 1 values\n",
    "# o/p -> 10 9 8 ...........1\n",
    "\n",
    "i=10\n",
    "while i>=1:\n",
    "    print(i , end= \" \")\n",
    "    i-=1\n",
    "    "
   ]
  },
  {
   "cell_type": "code",
   "execution_count": 15,
   "metadata": {},
   "outputs": [
    {
     "name": "stdout",
     "output_type": "stream",
     "text": [
      "Enter n: 3\n",
      "sum is:  6\n"
     ]
    }
   ],
   "source": [
    "# sum of n natural numbers using while\n",
    "# 1+2+3+....n\n",
    "\n",
    "n= int(input(\"Enter n: \"))\n",
    "sum=0\n",
    "i=1\n",
    "while i<=n:\n",
    "    sum=sum+i\n",
    "    i+=1\n",
    "print(\"sum is: \",sum)"
   ]
  },
  {
   "cell_type": "code",
   "execution_count": null,
   "metadata": {
    "scrolled": false
   },
   "outputs": [],
   "source": [
    "## Infinite loop\n",
    "i=3\n",
    "while True:\n",
    "    print(i)"
   ]
  },
  {
   "cell_type": "markdown",
   "metadata": {},
   "source": [
    "## while with else\n",
    "\n",
    "* the else part is executed , if the condition in while is false\n",
    "* the while loop is terminated with a break statement, in this case else part is ignored.\n",
    "* else part executed if there is no break stmt in while and condition is false"
   ]
  },
  {
   "cell_type": "code",
   "execution_count": 17,
   "metadata": {},
   "outputs": [
    {
     "name": "stdout",
     "output_type": "stream",
     "text": [
      "Inside loop\n",
      "Inside loop\n",
      "Inside loop\n",
      "inside else\n"
     ]
    }
   ],
   "source": [
    "counter=0\n",
    "while counter<3:\n",
    "    print(\"Inside loop\")\n",
    "    counter+=1\n",
    "else:\n",
    "    print(\"inside else\")"
   ]
  },
  {
   "cell_type": "code",
   "execution_count": 18,
   "metadata": {},
   "outputs": [
    {
     "name": "stdout",
     "output_type": "stream",
     "text": [
      "1\n",
      "2\n"
     ]
    }
   ],
   "source": [
    "i=1\n",
    "while i<=5:\n",
    "    print(i)\n",
    "    i+=1\n",
    "    if i==3:\n",
    "        break\n",
    "else:\n",
    "    print(\"else block\")"
   ]
  },
  {
   "cell_type": "markdown",
   "metadata": {},
   "source": [
    "### Nested while\n",
    "* while expression:\n",
    "    * while expression:\n",
    "        * statements\n",
    "    * statements"
   ]
  },
  {
   "cell_type": "code",
   "execution_count": 19,
   "metadata": {},
   "outputs": [
    {
     "name": "stdout",
     "output_type": "stream",
     "text": [
      "1   5\n",
      "2   6\n",
      "3   7\n"
     ]
    }
   ],
   "source": [
    "# 1,5  2,6  3,7\n",
    "i=1\n",
    "j=5\n",
    "while i<4:\n",
    "    while j<8:\n",
    "        print(i,\" \",j)\n",
    "        j+=1\n",
    "        i+=1"
   ]
  },
  {
   "cell_type": "markdown",
   "metadata": {},
   "source": [
    "## For loop\n",
    "\n",
    "* Used to iterate over a sequence(list,string,tuple etc..)\n",
    "* loop iterates until the last element in the sequence\n",
    "* syntax:\n",
    "\n",
    "    for var in sequence:\n",
    "        body for for\n",
    "        \n",
    "* range();sequence starts with 0 by default, incremented by 1 , eneded with specified number"
   ]
  },
  {
   "cell_type": "code",
   "execution_count": 20,
   "metadata": {},
   "outputs": [
    {
     "data": {
      "text/plain": [
       "range(0, 10)"
      ]
     },
     "execution_count": 20,
     "metadata": {},
     "output_type": "execute_result"
    }
   ],
   "source": [
    "range(10)"
   ]
  },
  {
   "cell_type": "code",
   "execution_count": 23,
   "metadata": {},
   "outputs": [
    {
     "name": "stdout",
     "output_type": "stream",
     "text": [
      "0 1 2 3 4 5 6 7 8 9 "
     ]
    }
   ],
   "source": [
    "for i in range(10):\n",
    "    print(i,end=\" \")"
   ]
  },
  {
   "cell_type": "code",
   "execution_count": 24,
   "metadata": {},
   "outputs": [
    {
     "name": "stdout",
     "output_type": "stream",
     "text": [
      "1 2 3 4 5 6 7 8 9 10 "
     ]
    }
   ],
   "source": [
    "for i in range(1,11):\n",
    "    print(i,end=\" \")"
   ]
  },
  {
   "cell_type": "code",
   "execution_count": 25,
   "metadata": {},
   "outputs": [],
   "source": [
    "# write a program to print sum of n natural numbers using for\n"
   ]
  },
  {
   "cell_type": "code",
   "execution_count": 32,
   "metadata": {},
   "outputs": [
    {
     "name": "stdout",
     "output_type": "stream",
     "text": [
      "enter a number:4\n",
      "4 * 1 = 4\n",
      "4 * 2 = 8\n",
      "4 * 3 = 12\n",
      "4 * 4 = 16\n",
      "4 * 5 = 20\n",
      "4 * 6 = 24\n",
      "4 * 7 = 28\n",
      "4 * 8 = 32\n",
      "4 * 9 = 36\n",
      "4 * 10 = 40\n"
     ]
    }
   ],
   "source": [
    "# print table for a given number\n",
    "\n",
    "n=int(input(\"enter a number:\"))\n",
    "for i in range(1,11):\n",
    "    r=n*i\n",
    "    print(n , \"*\",i,\"=\",r)\n"
   ]
  },
  {
   "cell_type": "code",
   "execution_count": null,
   "metadata": {},
   "outputs": [],
   "source": []
  }
 ],
 "metadata": {
  "kernelspec": {
   "display_name": "Python 3",
   "language": "python",
   "name": "python3"
  },
  "language_info": {
   "codemirror_mode": {
    "name": "ipython",
    "version": 3
   },
   "file_extension": ".py",
   "mimetype": "text/x-python",
   "name": "python",
   "nbconvert_exporter": "python",
   "pygments_lexer": "ipython3",
   "version": "3.7.6"
  }
 },
 "nbformat": 4,
 "nbformat_minor": 4
}
